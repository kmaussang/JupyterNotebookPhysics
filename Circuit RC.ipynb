{
 "cells": [
  {
   "cell_type": "markdown",
   "metadata": {},
   "source": [
    "# Etude d'un circuit RC"
   ]
  },
  {
   "cell_type": "markdown",
   "metadata": {},
   "source": [
    "## Import des modules python"
   ]
  },
  {
   "cell_type": "code",
   "execution_count": 3,
   "metadata": {},
   "outputs": [],
   "source": [
    "import numpy as np\n",
    "import scipy.integrate as itg\n",
    "import matplotlib.pyplot as plt\n",
    "from matplotlib import rc\n",
    "rc('text', usetex=True)"
   ]
  },
  {
   "cell_type": "markdown",
   "metadata": {},
   "source": [
    "## Paramètres du circuit"
   ]
  },
  {
   "cell_type": "code",
   "execution_count": 21,
   "metadata": {},
   "outputs": [
    {
     "name": "stdout",
     "output_type": "stream",
     "text": [
      "Constante de temps du circuit, RC=1.00ms\n"
     ]
    }
   ],
   "source": [
    "R=1e3 # en Ohms\n",
    "C=1e-6 # en Farad\n",
    "\n",
    "if R*C>0.1:\n",
    "    print(\"Constante de temps du circuit, RC={:.2f}s\".format(R*C))\n",
    "elif R*C>1e-4:\n",
    "    print(\"Constante de temps du circuit, RC={:.2f}ms\".format(R*C*1e3))\n",
    "elif R*C>1e-7:\n",
    "    print(\"Constante de temps du circuit, RC={:.2f}µs\".format(R*C*1e6))     \n",
    "else:\n",
    "    print(\"Constante de temps du circuit, RC={:.3f}ns\".format(R*C*1e9))"
   ]
  },
  {
   "cell_type": "markdown",
   "metadata": {},
   "source": [
    "## Réponse à un échelon de tension"
   ]
  },
  {
   "cell_type": "markdown",
   "metadata": {},
   "source": [
    "### Définition de la tension d'excitation\n",
    "La tension aux bornes du condensateur $u(t)$ est régie par l'équation différentielle suivante\n",
    "$$ u(t) + \\tau\\frac{\\text{d}u(t)}{\\text{d}t}=E(t),$$ où $E(t)$ est la tension excitatrice et $\\tau=RC$. Cette équation peut s'écrire comme suit $$\\frac{\\text{d}u(t)}{\\text{d}t}=\\frac{E(t)-u(t)}{\\tau}.$$\n",
    "Cette forme est adaptée pour une résolution numérique avec le module `scipy.integrate.odeint`. Ce module permet de résoudre une équation différentielle de la forme `dy/dt = func(y, t0, ...)` où `y` est un vecteur, `t_0` un instant initial et `func()` une fonction préalablement définie. On va ainsi définir une fonction `du(t)` adaptée à cette syntaxe. \n"
   ]
  },
  {
   "cell_type": "code",
   "execution_count": 60,
   "metadata": {},
   "outputs": [],
   "source": [
    "slope=-1 # type d'échelon +1/-1\n",
    "Emax=5 # amplitude (en Volt)\n",
    "u0=Emax*(1-slope)/2 # tension initiale aux bornes du condensateur, en Volt\n",
    "    \n",
    "\n",
    "def E(t):\n",
    "    if slope==1:\n",
    "        if t<0 :\n",
    "            return 0.0\n",
    "        else :\n",
    "            return Emax\n",
    "    elif slope==-1:\n",
    "        if t>0 :\n",
    "            return 0.0\n",
    "        else :\n",
    "            return Emax\n",
    "    else:\n",
    "        print(\"Mauvaise valeur du paramètre 'slope'\")\n",
    "        pass\n",
    "\n",
    "def dUc(Uc, t):\n",
    "    return (E(t)-Uc)/tau"
   ]
  },
  {
   "cell_type": "markdown",
   "metadata": {},
   "source": [
    "### Intégraton de l'équation différentielle"
   ]
  },
  {
   "cell_type": "code",
   "execution_count": 69,
   "metadata": {},
   "outputs": [],
   "source": [
    "tau=R*C\n",
    "t=np.linspace(-tau,10*tau,400) # vecteur de temps\n",
    "Uc = itg.odeint(dUc, [u0], t)\n",
    "Eref=np.array([E(x) for x in t])"
   ]
  },
  {
   "cell_type": "markdown",
   "metadata": {},
   "source": [
    "### Représentation graphique"
   ]
  },
  {
   "cell_type": "code",
   "execution_count": null,
   "metadata": {},
   "outputs": [],
   "source": [
    "fig=plt.figure(1, figsize=(15, 10))\n",
    "plt.rcParams.update({'font.size': 22}) # change font size\n",
    "plt.plot(t/tau,Eref/Emax,\"g-\", linewidth=4)\n",
    "plt.plot(t/tau,Uc/Emax,\"b-\", linewidth=4)\n",
    "plt.legend([r'$E(t)$',r'$u(t)$'])\n",
    "plt.xlabel(r'$t/\\tau$')\n",
    "plt.ylabel(r'$u(t)/E_{max}$ ')\n",
    "plt.grid()\n",
    "plt.plot([ -1, 10 ], [(1+slope)/2, (1+slope)/2], \"y--\", linewidth=2)\n",
    "plt.plot([ 1, 1 ], [-.1, 1.10 ], \"y--\", linewidth=2)\n",
    "plt.plot([ 3, 3 ], [-.1, 1.10 ], \"y--\", linewidth=2)\n",
    "plt.plot([ 0, 1 ], [ (1-slope)/2, (1+slope)/2 ], \"r-.\", linewidth=2)\n",
    "plt.plot([1],[(1+slope)/2],'o',color='red',markersize=10)\n",
    "plt.plot([1],[(1-slope)/2+slope*.63],'o',color='black',markersize=8)\n",
    "plt.plot([3],[(1-slope)/2+slope*.95],'o',color='black',markersize=8)\n",
    "plt.annotate(\"63\\%\", (1, (1-slope)/2+slope*0.63), (1.5, (1-slope)/2+slope*0.52), arrowprops={\"arrowstyle\":\"->\"})\n",
    "plt.annotate(\"95\\%\", (3, (1-slope)/2+slope*0.95), (3.5, (1-slope)/2+slope*0.84), arrowprops={\"arrowstyle\":\"->\"})\n",
    "plt.xlim(-1,7)\n",
    "plt.ylim(-0.1,1.1)\n",
    "plt.tight_layout()\n",
    "plt.show()"
   ]
  }
 ],
 "metadata": {
  "kernelspec": {
   "display_name": "Python 3",
   "language": "python",
   "name": "python3"
  },
  "language_info": {
   "codemirror_mode": {
    "name": "ipython",
    "version": 3
   },
   "file_extension": ".py",
   "mimetype": "text/x-python",
   "name": "python",
   "nbconvert_exporter": "python",
   "pygments_lexer": "ipython3",
   "version": "3.7.5"
  }
 },
 "nbformat": 4,
 "nbformat_minor": 4
}
